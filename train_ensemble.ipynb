{
 "cells": [
  {
   "cell_type": "code",
   "execution_count": null,
   "metadata": {},
   "outputs": [],
   "source": [
    "import os\n",
    "import csv\n",
    "import pickle\n",
    "from tensorflow.keras.models import load_model\n",
    "from tensorflow.keras.preprocessing.image import ImageDataGenerator\n",
    "from tensorflow.keras.applications.resnet50 import preprocess_input\n",
    "from sklearn.model_selection import train_test_split\n",
    "from sklearn.metrics import accuracy_score\n",
    "import numpy as np\n",
    "import pandas as pd\n",
    "import xgboost as xgb\n",
    "from constants import *"
   ]
  },
  {
   "cell_type": "code",
   "execution_count": null,
   "metadata": {},
   "outputs": [],
   "source": [
    "models = []\n",
    "for model_file in os.listdir(FINAL_MODELS_DIR):\n",
    "    models.append(load_model(os.path.join(FINAL_MODELS_DIR, model_file)))\n",
    "    print('loaded model {}'.format(model_file))\n",
    "\n",
    "\n",
    "gen = ImageDataGenerator(\n",
    "    preprocessing_function=preprocess_input\n",
    ").flow_from_directory(\n",
    "    os.path.join(DATA_DIR, 'train'),\n",
    "    target_size=INPUT_SIZE,\n",
    "    class_mode='sparse',\n",
    "    shuffle=True,\n",
    "    batch_size=BATCH_SIZE)"
   ]
  },
  {
   "cell_type": "code",
   "execution_count": null,
   "metadata": {},
   "outputs": [],
   "source": [
    "os.makedirs('ensemble', exist_ok=True)\n",
    "with open(os.path.join('ensemble', 'ensemble.csv'), mode='w') as csv_file:\n",
    "    writer = csv.writer(csv_file, delimiter=',', quotechar='\"',\n",
    "                        quoting=csv.QUOTE_MINIMAL)\n",
    "\n",
    "    models_header = ['m{}_{}'.format(i, j)\n",
    "                     for i in range(len(models)) for j in range(42)]\n",
    "    writer.writerow(models_header + ['y'])\n",
    "\n",
    "    total_tested, num_correct = 0, 0\n",
    "    for test_images, test_labels in gen:\n",
    "        total_tested += BATCH_SIZE\n",
    "\n",
    "        p_sum = np.zeros((test_images.shape[0], 42))\n",
    "        p_all = [[] for _ in range(BATCH_SIZE)]\n",
    "\n",
    "        for model in models:\n",
    "            preds = model.predict(test_images)\n",
    "            p_sum += preds\n",
    "            for i, p in enumerate(preds):\n",
    "                p_all[i].extend(p)\n",
    "\n",
    "        for i, p in enumerate(np.argmax(p_sum, axis=1)):\n",
    "            if p == int(test_labels[i]):\n",
    "                num_correct += 1\n",
    "\n",
    "        for i, p in enumerate(p_all):\n",
    "            writer.writerow(p + [test_labels[i]])\n",
    "\n",
    "        print(\"{} correct out of {} ({:.5%})\".format(\n",
    "            num_correct, total_tested, num_correct/total_tested))\n",
    "\n",
    "        if total_tested > 88888:\n",
    "            break"
   ]
  },
  {
   "cell_type": "code",
   "execution_count": null,
   "metadata": {},
   "outputs": [],
   "source": [
    "df = pd.read_csv(os.path.join('ensemble', 'ensemble.csv'))\n",
    "X, y = df.iloc[:, :-1], df.iloc[:, -1]\n",
    "data_dmatrix = xgb.DMatrix(data=X, label=y)\n",
    "X_train, X_test, y_train, y_test = train_test_split(X, y, test_size=0.2)\n",
    "\n",
    "xg_reg = xgb.XGBClassifier(\n",
    "    objective ='reg:logistic',\n",
    "    eta=0.05,\n",
    "    max_depth=1,\n",
    "    min_child_weight=9,\n",
    ")\n",
    "\n",
    "xg_reg.fit(X_train,y_train,verbose=1)\n",
    "preds = xg_reg.predict(X_test)\n",
    "accuracy_score(y_test, preds)"
   ]
  },
  {
   "cell_type": "code",
   "execution_count": null,
   "metadata": {},
   "outputs": [],
   "source": [
    "final_model = xgb.XGBClassifier(\n",
    "    objective ='reg:logistic',\n",
    "    eta=0.05,\n",
    "    max_depth=1,\n",
    "    min_child_weight=9,\n",
    ")\n",
    "final_model.fit(X,y,verbose=1)"
   ]
  },
  {
   "cell_type": "code",
   "execution_count": null,
   "metadata": {},
   "outputs": [],
   "source": [
    "pickle.dump(final_model, open(os.path.join('ensemble',\"model.pickle.dat\"), \"wb\"))"
   ]
  }
 ],
 "metadata": {
  "language_info": {
   "codemirror_mode": {
    "name": "ipython",
    "version": 3
   },
   "file_extension": ".py",
   "mimetype": "text/x-python",
   "name": "python",
   "nbconvert_exporter": "python",
   "pygments_lexer": "ipython3",
   "version": 3
  },
  "orig_nbformat": 2
 },
 "nbformat": 4,
 "nbformat_minor": 2
}