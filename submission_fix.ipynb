{
 "cells": [
  {
   "cell_type": "code",
   "execution_count": null,
   "metadata": {},
   "outputs": [],
   "source": [
    "import pandas as pd\n",
    "df = pd.read_csv('submission.csv')\n",
    "df_ref = pd.read_csv('data/original/test.csv')\n",
    "df.shape, df_ref.shape"
   ]
  },
  {
   "cell_type": "code",
   "execution_count": null,
   "metadata": {},
   "outputs": [],
   "source": [
    "df_final = pd.concat([df_ref,df]).drop_duplicates('filename', keep='last')\n",
    "with open('submission.csv', mode='w') as csv_file:\n",
    "    writer = csv.writer(csv_file, delimiter=',', quotechar='\"',\n",
    "                        quoting=csv.QUOTE_MINIMAL)\n",
    "    writer.writerow(['filename', 'category'])\n",
    "\n",
    "    for _, row in pdf.iterrows():\n",
    "        y = int(row['category'])\n",
    "        y = str(y) if y > 9 else '0' + str(y)\n",
    "        writer.writerow([row['filename'], y])"
   ]
  }
 ],
 "metadata": {
  "language_info": {
   "codemirror_mode": {
    "name": "ipython",
    "version": 3
   },
   "file_extension": ".py",
   "mimetype": "text/x-python",
   "name": "python",
   "nbconvert_exporter": "python",
   "pygments_lexer": "ipython3",
   "version": "3.7.3-final"
  },
  "orig_nbformat": 2,
  "kernelspec": {
   "name": "python37364bitbasecondad84b5608f725479ebb661b69a0c29c53",
   "display_name": "Python 3.7.3 64-bit ('base': conda)"
  }
 },
 "nbformat": 4,
 "nbformat_minor": 2
}