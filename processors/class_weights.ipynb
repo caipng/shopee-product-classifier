{
 "cells": [
  {
   "cell_type": "code",
   "execution_count": 1,
   "metadata": {},
   "outputs": [],
   "source": [
    "import os\n",
    "import numpy as np\n",
    "from sklearn.utils.class_weight import compute_class_weight"
   ]
  },
  {
   "cell_type": "code",
   "execution_count": 2,
   "metadata": {
    "tags": []
   },
   "outputs": [],
   "source": [
    "# y_train contains n number of labels for each category with n images\n",
    "# for eg, if there was 100 files with label '00' and 50 with label '01'\n",
    "# then y_train will be ['00'*100] + ['01'*50]\n",
    "y_train = []\n",
    "\n",
    "for root, _, files in os.walk(os.path.join('..', 'data', 'original', 'train')):\n",
    "    if len(files) == 0:\n",
    "        continue\n",
    "\n",
    "    y = root.split('/')[-1]\n",
    "    y_train.extend([y for _ in range(len(files))])"
   ]
  },
  {
   "cell_type": "code",
   "execution_count": 3,
   "metadata": {
    "tags": []
   },
   "outputs": [
    {
     "output_type": "execute_result",
     "data": {
      "text/plain": "array([0.93532471, 0.92840407, 0.93393234, 0.92840407, 0.92840407,\n       0.95019924, 0.95019924, 0.94305757, 0.92943563, 0.93012461,\n       0.93882386, 1.36162571, 0.93254411, 0.93567345, 0.934628  ,\n       0.9534484 , 0.9416421 , 1.61588937, 1.19271682, 0.93672124,\n       0.94554491, 0.96592617, 0.95671986, 0.98798275, 0.92771763,\n       0.93219769, 0.93497623, 0.92874766, 0.97988137, 1.17374939,\n       0.92771763, 0.93742106, 1.16341038, 4.3795396 , 0.96555452,\n       0.94412197, 0.93428004, 1.45476881, 0.93882386, 0.93707102,\n       0.93602245, 0.9427033 ])"
     },
     "metadata": {},
     "execution_count": 3
    }
   ],
   "source": [
    "y_train = np.array(y_train)\n",
    "cw = compute_class_weight(\n",
    "    'balanced',\n",
    "    np.unique(y_train), # np arr of all the categories\n",
    "    y_train)\n",
    "cw"
   ]
  },
  {
   "cell_type": "code",
   "execution_count": 4,
   "metadata": {},
   "outputs": [
    {
     "output_type": "execute_result",
     "data": {
      "text/plain": "{'00': 0.9353247075945548,\n '01': 0.9284040660289273,\n '02': 0.9339323373562302,\n '03': 0.9284040660289273,\n '04': 0.9284040660289273,\n '05': 0.9501992391049566,\n '06': 0.9501992391049566,\n '07': 0.943057568762191,\n '08': 0.9294356261022928,\n '09': 0.93012460729288,\n '10': 0.9388238647497906,\n '11': 1.3616257137689585,\n '12': 0.9325441064571499,\n '13': 0.9356734490962679,\n '14': 0.9346280039017469,\n '15': 0.9534484006368504,\n '16': 0.9416420977396587,\n '17': 1.615889369269923,\n '18': 1.1927168205685317,\n '19': 0.9367212357133969,\n '20': 0.9455449097498834,\n '21': 0.9659261703141611,\n '22': 0.9567198591216891,\n '23': 0.9879827521559805,\n '24': 0.9277176304902738,\n '25': 0.9321976933418241,\n '26': 0.9349762259598325,\n '27': 0.9287476648690565,\n '28': 0.9798813707443149,\n '29': 1.173749387500557,\n '30': 0.9277176304902738,\n '31': 0.9374210648024619,\n '32': 1.1634103803783915,\n '33': 4.379539599434888,\n '34': 0.9655545173051906,\n '35': 0.9441219678239994,\n '36': 0.9342800411303762,\n '37': 1.4547688060731538,\n '38': 0.9388238647497906,\n '39': 0.9370710195952915,\n '40': 0.9360224507557592,\n '41': 0.9427033022074345}"
     },
     "metadata": {},
     "execution_count": 4
    }
   ],
   "source": [
    "{cat: cw[i] for i, cat in enumerate(np.unique(y_train))}"
   ]
  }
 ],
 "metadata": {
  "language_info": {
   "codemirror_mode": {
    "name": "ipython",
    "version": 3
   },
   "file_extension": ".py",
   "mimetype": "text/x-python",
   "name": "python",
   "nbconvert_exporter": "python",
   "pygments_lexer": "ipython3",
   "version": "3.7.3-final"
  },
  "orig_nbformat": 2,
  "kernelspec": {
   "name": "python37364bitbasecondad84b5608f725479ebb661b69a0c29c53",
   "display_name": "Python 3.7.3 64-bit ('base': conda)"
  }
 },
 "nbformat": 4,
 "nbformat_minor": 2
}